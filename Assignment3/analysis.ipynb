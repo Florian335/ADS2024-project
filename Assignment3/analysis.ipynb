{
 "cells": [
  {
   "cell_type": "code",
   "execution_count": null,
   "metadata": {},
   "outputs": [],
   "source": [
    "import pandas as pd\n",
    "import matplotlib.pyplot as plt"
   ]
  },
  {
   "cell_type": "markdown",
   "metadata": {},
   "source": [
    "### Data"
   ]
  },
  {
   "cell_type": "code",
   "execution_count": null,
   "metadata": {},
   "outputs": [],
   "source": [
    "data_large = pd.read_parquet('data/text_large.parquet')\n",
    "data_small = pd.read_parquet('data/text_small.parquet')"
   ]
  },
  {
   "cell_type": "code",
   "execution_count": null,
   "metadata": {},
   "outputs": [],
   "source": [
    "percentage_diff_data = ((data_large.shape[0] - data_small.shape[0]) / data_small.shape[0]) * 100"
   ]
  },
  {
   "cell_type": "code",
   "execution_count": null,
   "metadata": {},
   "outputs": [],
   "source": [
    "print(f'Percentage difference between the large and small dataset: {percentage_diff_data:.2f}%')"
   ]
  },
  {
   "cell_type": "code",
   "execution_count": null,
   "metadata": {},
   "outputs": [],
   "source": [
    "data_large['sentence_length'] = data_large['text'].apply(lambda x: len(x.split()))\n",
    "average_length = data_large['sentence_length'].mean()\n",
    "\n",
    "print(f'Average sentence length in the large dataset: {average_length} words')"
   ]
  },
  {
   "cell_type": "code",
   "execution_count": null,
   "metadata": {},
   "outputs": [],
   "source": [
    "data_large.head()"
   ]
  },
  {
   "cell_type": "code",
   "execution_count": null,
   "metadata": {},
   "outputs": [],
   "source": [
    "data_small['sentence_length'] = data_small['text'].apply(lambda x: len(x.split()))\n",
    "average_length = data_small['sentence_length'].mean()\n",
    "\n",
    "print(f'Average sentence length in the small dataset: {average_length} words')"
   ]
  },
  {
   "cell_type": "markdown",
   "metadata": {},
   "source": [
    "### Parquet"
   ]
  },
  {
   "cell_type": "code",
   "execution_count": null,
   "metadata": {},
   "outputs": [],
   "source": [
    "parquet_large = pd.read_json('results/parquet/large/parquet-performance.json',convert_dates=False)\n",
    "parquet_large_usage = pd.read_json('results/parquet/large/resource_usage.json',convert_dates=False)\n",
    "\n",
    "parquet_small = pd.read_json('results/parquet/small/parquet-performance.json',convert_dates=False)\n",
    "parquet_small_usage = pd.read_json('results/parquet/small/resource_usage.json',convert_dates=False)"
   ]
  },
  {
   "cell_type": "markdown",
   "metadata": {},
   "source": [
    "#### Text File"
   ]
  },
  {
   "cell_type": "code",
   "execution_count": null,
   "metadata": {},
   "outputs": [],
   "source": [
    "file_large = pd.read_json('results/text/large/file-performance.json',convert_dates=False)\n",
    "file_large_usage = pd.read_json('results/text/large/resource_usage.json',convert_dates=False)\n",
    "\n",
    "file_small = pd.read_json('results/text/small/file-performance.json',convert_dates=False)\n",
    "file_small_usage = pd.read_json('results/text/small/resource_usage.json',convert_dates=False)"
   ]
  },
  {
   "cell_type": "markdown",
   "metadata": {},
   "source": [
    "### Analysis"
   ]
  },
  {
   "cell_type": "code",
   "execution_count": null,
   "metadata": {},
   "outputs": [],
   "source": [
    "fig, ax = plt.subplots(figsize=(10, 5))\n",
    "\n",
    "parquet_large['execution_time_seconds'].plot(\n",
    "    ax=ax, label=\"Parquet Large\", drawstyle=\"steps-post\", marker=\"o\",markersize = 3\n",
    ")\n",
    "parquet_small['execution_time_seconds'].plot(\n",
    "    ax=ax, label=\"Parquet Small\", drawstyle=\"steps-post\", marker=\"o\",markersize = 3\n",
    ")\n",
    "file_large['execution_time_seconds'].plot(\n",
    "    ax=ax, label=\"File Large\", drawstyle=\"steps-post\", marker=\"o\",markersize = 3\n",
    ")\n",
    "file_small['execution_time_seconds'].plot(\n",
    "    ax=ax, label=\"File Small\", drawstyle=\"steps-post\", marker=\"o\",markersize = 3\n",
    ")\n",
    "\n",
    "ax.set_title(\"Execution Time Comparison\", fontsize=16, weight='bold')\n",
    "ax.set_ylabel(\"Execution Time (seconds)\", fontsize=10)\n",
    "\n",
    "ax.grid(True, which='both', linestyle='--', linewidth=0.5, alpha=0.7)\n",
    "\n",
    "plt.xticks(fontsize=12, rotation=45)\n",
    "plt.yticks(fontsize=12)\n",
    "\n",
    "ax.legend(title=\"Query\", fontsize=12, title_fontsize=14, loc=\"upper left\", bbox_to_anchor=(1, 1))\n",
    "\n",
    "plt.tight_layout()\n",
    "\n",
    "plt.show()\n"
   ]
  },
  {
   "cell_type": "code",
   "execution_count": null,
   "metadata": {},
   "outputs": [],
   "source": [
    "fig, ax = plt.subplots(figsize=(10, 5))\n",
    "\n",
    "data = [\n",
    "    parquet_large_usage[parquet_large_usage['cpu_percent'] != 0.0]['cpu_percent'],\n",
    "    parquet_small_usage[parquet_small_usage['cpu_percent'] != 0.0]['cpu_percent'],\n",
    "    file_large_usage[file_large_usage['cpu_percent'] != 0.0]['cpu_percent'],\n",
    "    file_small_usage[file_small_usage['cpu_percent'] != 0.0]['cpu_percent']\n",
    "]\n",
    "\n",
    "ax.boxplot(data,showmeans=True)\n",
    "\n",
    "ax.set_title(\"CPU Percent Usage Comparison\", fontsize=16, weight='bold')\n",
    "ax.set_xticklabels([\"Parquet Large\", \"Parquet Small\", \"File Large\", \"File Small\"], fontsize=12, rotation=45)\n",
    "ax.set_ylabel(\"CPU Usage Percent\", fontsize=10)\n",
    "\n",
    "ax.grid(True, which='both', linestyle='--', linewidth=0.5, alpha=0.7)\n",
    "\n",
    "plt.tight_layout()\n",
    "\n",
    "plt.show()\n"
   ]
  },
  {
   "cell_type": "code",
   "execution_count": null,
   "metadata": {},
   "outputs": [],
   "source": [
    "fig, ax = plt.subplots(figsize=(10, 5))\n",
    "\n",
    "data = [\n",
    "    parquet_large_usage[parquet_large_usage['memory_percent'] != 0.0]['memory_percent'],\n",
    "    parquet_small_usage[parquet_small_usage['memory_percent'] != 0.0]['memory_percent'],\n",
    "    file_large_usage[file_large_usage['memory_percent'] != 0.0]['memory_percent'],\n",
    "    file_small_usage[file_small_usage['memory_percent'] != 0.0]['memory_percent']\n",
    "]\n",
    "\n",
    "ax.boxplot(data,showmeans=True)\n",
    "\n",
    "ax.set_title(\"RAM Usage Comparison\", fontsize=16, weight='bold')\n",
    "ax.set_xticklabels([\"Parquet Large\", \"Parquet Small\", \"File Large\", \"File Small\"], fontsize=12, rotation=45)\n",
    "ax.set_ylabel(\"RAM Usage Percent\", fontsize=10)\n",
    "\n",
    "ax.grid(True, which='both', linestyle='--', linewidth=0.5, alpha=0.7)\n",
    "\n",
    "plt.tight_layout()\n",
    "\n",
    "plt.show()\n"
   ]
  },
  {
   "cell_type": "code",
   "execution_count": null,
   "metadata": {},
   "outputs": [],
   "source": [
    "parquet_large_cpu = parquet_large_usage[parquet_large_usage['cpu_percent'] != 0.0]['cpu_percent']\n",
    "parquet_small_cpu = parquet_small_usage[parquet_small_usage['cpu_percent'] != 0.0]['cpu_percent']\n",
    "file_large_cpu = file_large_usage[file_large_usage['cpu_percent'] != 0.0]['cpu_percent']\n",
    "file_small_cpu = file_small_usage[file_small_usage['cpu_percent'] != 0.0]['cpu_percent']\n",
    "\n",
    "mean_parquet_large = parquet_large_cpu.mean()\n",
    "mean_parquet_small = parquet_small_cpu.mean()\n",
    "mean_file_large = file_large_cpu.mean()\n",
    "mean_file_small = file_small_cpu.mean()\n",
    "\n",
    "percentage_diff_parquet = ((mean_parquet_large - mean_parquet_small) / mean_parquet_small) * 100\n",
    "percentage_diff_file = ((mean_file_large - mean_file_small) / mean_file_small) * 100\n",
    "\n",
    "percentage_diff_large = ((mean_parquet_large - mean_file_large) / mean_file_large) * 100\n",
    "percentage_diff_small = ((mean_parquet_small - mean_file_small) / mean_file_small) * 100\n",
    "\n",
    "print(f\"Percentage difference between Parquet large and small means: {percentage_diff_parquet:.2f}%\")\n",
    "print(f\"Percentage difference between File large and small means: {percentage_diff_file:.2f}%\")\n",
    "print(f\"Percentage difference between Parquet and File large means: {percentage_diff_large:.2f}%\")\n",
    "print(f\"Percentage difference between Parquet and File small means: {percentage_diff_small:.2f}%\")\n",
    "\n"
   ]
  },
  {
   "cell_type": "code",
   "execution_count": null,
   "metadata": {},
   "outputs": [],
   "source": [
    "mean_parquet_large = parquet_large['execution_time_seconds'].mean()\n",
    "mean_parquet_small = parquet_small['execution_time_seconds'].mean()\n",
    "mean_file_large = file_large['execution_time_seconds'].mean()\n",
    "mean_file_small = file_small['execution_time_seconds'].mean()\n",
    "\n",
    "percentage_diff_parquet = ((mean_parquet_large - mean_parquet_small) / mean_parquet_small) * 100\n",
    "percentage_diff_file = ((mean_file_large - mean_file_small) / mean_file_small) * 100\n",
    "\n",
    "percentage_diff_large = ((mean_parquet_large - mean_file_large) / mean_file_large) * 100\n",
    "percentage_diff_small = ((mean_parquet_small - mean_file_small) / mean_file_small) * 100\n",
    "\n",
    "print(f\"Percentage difference between Parquet large and small means: {percentage_diff_parquet:.2f}%\")\n",
    "print(f\"Percentage difference between File large and small means: {percentage_diff_file:.2f}%\")\n",
    "print(f\"Percentage difference between Parquet and File large means: {percentage_diff_large:.2f}%\")\n",
    "print(f\"Percentage difference between Parquet and File small means: {percentage_diff_small:.2f}%\")"
   ]
  }
 ],
 "metadata": {
  "kernelspec": {
   "display_name": ".venv",
   "language": "python",
   "name": "python3"
  },
  "language_info": {
   "codemirror_mode": {
    "name": "ipython",
    "version": 3
   },
   "file_extension": ".py",
   "mimetype": "text/x-python",
   "name": "python",
   "nbconvert_exporter": "python",
   "pygments_lexer": "ipython3",
   "version": "3.12.2"
  }
 },
 "nbformat": 4,
 "nbformat_minor": 2
}
