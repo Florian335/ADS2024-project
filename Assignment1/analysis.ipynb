{
 "cells": [
  {
   "cell_type": "code",
   "execution_count": null,
   "metadata": {},
   "outputs": [],
   "source": [
    "import pandas as pd\n",
    "import os\n",
    "import matplotlib.pyplot as plt"
   ]
  },
  {
   "cell_type": "markdown",
   "metadata": {},
   "source": [
    "### TPC-H"
   ]
  },
  {
   "cell_type": "code",
   "execution_count": null,
   "metadata": {},
   "outputs": [],
   "source": [
    "# Base directory containing the results\n",
    "base_dir = \"results_tpch\"  # Replace with the path to your \"results\" folder\n",
    "\n",
    "# List to store the data for the DataFrame\n",
    "data = []\n",
    "\n",
    "# Walk through the base directory\n",
    "for root, dirs, files in os.walk(base_dir):\n",
    "    for file in files:\n",
    "        if file == \"execution_times.txt\":\n",
    "            # Extract query number and scaling factor (SF) from the directory structure\n",
    "            path_parts = root.split(os.sep)\n",
    "            sf = path_parts[-2]  # SF folder (e.g., SF_1)\n",
    "            query_number = path_parts[-1]  # Query folder (e.g., query_1, query_5, query_18)\n",
    "            \n",
    "            # Full path to the execution times file\n",
    "            file_path = os.path.join(root, file)\n",
    "            \n",
    "            # Read the execution times from the file\n",
    "            with open(file_path, 'r') as f:\n",
    "                execution_times = f.readlines()\n",
    "            \n",
    "            # Add each execution time with associated metadata to the data list\n",
    "            for time in execution_times:\n",
    "                data.append({\n",
    "                    \"Execution Time\": float(time.strip()),\n",
    "                    \"Query Number\": query_number,\n",
    "                    \"Scaling Factor (SF)\": sf\n",
    "                })\n",
    "\n",
    "# Create the DataFrame\n",
    "df = pd.DataFrame(data)"
   ]
  },
  {
   "cell_type": "code",
   "execution_count": null,
   "metadata": {},
   "outputs": [],
   "source": [
    "fig, axes = plt.subplots(1, 4, figsize=(20, 6), sharey=False, constrained_layout=False)\n",
    "sfls = ['SF_1', 'SF_10', 'SF_100', 'SF_1000']\n",
    "\n",
    "# Looping through scaling factors\n",
    "for col, sf in enumerate(sfls):  # Add col to enumerate the correct axis\n",
    "    ax = axes[col]\n",
    "    subset = df[df[\"Scaling Factor (SF)\"] == sf]\n",
    "    if not subset.empty:\n",
    "        subset.boxplot(\n",
    "            by=\"Query Number\",\n",
    "            column=\"Execution Time\",\n",
    "            ax=ax,\n",
    "            grid=True,\n",
    "            patch_artist=True\n",
    "        )\n",
    "    ax.set_title(f\"Scaling Factor: {sf}\")\n",
    "    ax.set_ylabel(\"Execution Time (s)\" if col == 0 else \"\")\n",
    "\n",
    "\n",
    "plt.suptitle(\"Execution Time by Query Across Scaling Factors\")\n",
    "plt.tight_layout() \n",
    "plt.show()\n"
   ]
  },
  {
   "cell_type": "markdown",
   "metadata": {},
   "source": [
    "### Implementations"
   ]
  },
  {
   "cell_type": "code",
   "execution_count": null,
   "metadata": {},
   "outputs": [],
   "source": [
    "python_results = pd.read_csv(\n",
    "    'implementations/results/Python/execution_times.txt', \n",
    "    names=['execution_time'], \n",
    "    header=None  # Indicates the file doesn't have a header row\n",
    ")"
   ]
  },
  {
   "cell_type": "code",
   "execution_count": null,
   "metadata": {},
   "outputs": [],
   "source": [
    "sql_results = pd.read_csv(\n",
    "    'implementations/results/SQL/execution_times.txt', \n",
    "    names=['execution_time'], \n",
    "    header=None  # Indicates the file doesn't have a header row\n",
    ")"
   ]
  },
  {
   "cell_type": "code",
   "execution_count": null,
   "metadata": {},
   "outputs": [],
   "source": [
    "sql_queries_results = pd.read_json(\n",
    "    'implementations/results/SQL/per_query_times.json', \n",
    ")"
   ]
  },
  {
   "cell_type": "code",
   "execution_count": null,
   "metadata": {},
   "outputs": [],
   "source": [
    "# Combine the data for plotting\n",
    "data = [sql_results['execution_time'], python_results['execution_time']]\n",
    "\n",
    "# Create the box plot\n",
    "plt.figure(figsize=(8, 5))\n",
    "plt.boxplot(data)\n",
    "\n",
    "# Customize the plot\n",
    "plt.xticks([1, 2], ['SQL', 'Python'], fontsize=12)\n",
    "plt.title('Box Plot of Execution Times', fontsize=14, fontweight='bold')\n",
    "plt.ylabel('Execution Time (s)', fontsize=12)\n",
    "plt.grid(axis='y', linestyle='--', alpha=0.7)\n",
    "\n",
    "# Show the plot\n",
    "plt.tight_layout()\n",
    "plt.show()"
   ]
  },
  {
   "cell_type": "code",
   "execution_count": null,
   "metadata": {},
   "outputs": [],
   "source": [
    "# Create the box plot\n",
    "plt.figure(figsize=(10, 5))\n",
    "sql_queries_results.boxplot(grid=False)\n",
    "\n",
    "# Customize the plot\n",
    "plt.title('Box Plot of Query Results', fontsize=14)\n",
    "plt.ylabel('Execution time (s)', fontsize=10)\n",
    "plt.xticks(rotation=45)\n",
    "plt.grid(axis='y', linestyle='--', alpha=0.7)\n",
    "\n",
    "# Show the plot\n",
    "plt.tight_layout()\n",
    "plt.show()\n"
   ]
  }
 ],
 "metadata": {
  "kernelspec": {
   "display_name": ".venv",
   "language": "python",
   "name": "python3"
  },
  "language_info": {
   "codemirror_mode": {
    "name": "ipython",
    "version": 3
   },
   "file_extension": ".py",
   "mimetype": "text/x-python",
   "name": "python",
   "nbconvert_exporter": "python",
   "pygments_lexer": "ipython3",
   "version": "3.12.2"
  }
 },
 "nbformat": 4,
 "nbformat_minor": 2
}
