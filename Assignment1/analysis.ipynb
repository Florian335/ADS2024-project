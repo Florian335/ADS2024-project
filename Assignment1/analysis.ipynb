{
 "cells": [
  {
   "cell_type": "code",
   "execution_count": null,
   "metadata": {},
   "outputs": [],
   "source": [
    "import pandas as pd\n",
    "import os\n",
    "import matplotlib.pyplot as plt"
   ]
  },
  {
   "cell_type": "markdown",
   "metadata": {},
   "source": [
    "### TPC-H"
   ]
  },
  {
   "cell_type": "code",
   "execution_count": null,
   "metadata": {},
   "outputs": [],
   "source": [
    "base_dir = \"results_tpch\"  \n",
    "\n",
    "data = []\n",
    "\n",
    "for root, dirs, files in os.walk(base_dir):\n",
    "    for file in files:\n",
    "        if file == \"execution_times.txt\":\n",
    "            path_parts = root.split(os.sep)\n",
    "            \n",
    "            size_class = path_parts[-3]  \n",
    "            sf = path_parts[-2]          \n",
    "            query_number = path_parts[-1]  \n",
    "            \n",
    "            file_path = os.path.join(root, file)\n",
    "            \n",
    "            with open(file_path, 'r') as f:\n",
    "                execution_times = f.readlines()\n",
    "            \n",
    "            for time in execution_times:\n",
    "                data.append({\n",
    "                    \"Execution Time\": float(time.strip()),\n",
    "                    \"Query Number\": query_number,\n",
    "                    \"Scaling Factor (SF)\": sf,\n",
    "                    \"Warehouse Size\": size_class\n",
    "                })\n",
    "\n",
    "df = pd.DataFrame(data)\n"
   ]
  },
  {
   "cell_type": "code",
   "execution_count": null,
   "metadata": {},
   "outputs": [],
   "source": [
    "fig, axes = plt.subplots(4, 4, figsize=(20, 20), sharey=False)\n",
    "sfls = ['SF_1', 'SF_10', 'SF_100', 'SF_1000']\n",
    "size_classes = ['XS', 'S', 'M', 'L']\n",
    "\n",
    "for row, size_class in enumerate(size_classes):\n",
    "    for col, sf in enumerate(sfls):\n",
    "        ax = axes[row, col]  \n",
    "        \n",
    "        subset = df[(df[\"Warehouse Size\"] == size_class) & (df[\"Scaling Factor (SF)\"] == sf)]\n",
    "        \n",
    "        if not subset.empty:\n",
    "            subset.boxplot(\n",
    "                by=\"Query Number\",\n",
    "                column=\"Execution Time\",\n",
    "                ax=ax,\n",
    "                grid=True,\n",
    "                patch_artist=False\n",
    "            )\n",
    "        \n",
    "        ax.set_title(f\"{size_class} - {sf}\")\n",
    "        if col == 0:\n",
    "            ax.set_ylabel(\"Execution Time (s)\")\n",
    "        if row == len(size_classes) - 1:\n",
    "            ax.set_xlabel(\"Query Number\")\n",
    "\n",
    "plt.suptitle(\"TPC-H Benchmark Across Warehouse Sizes and Scaling Factors\", fontsize=16)\n",
    "plt.tight_layout()\n",
    "plt.subplots_adjust(top=0.95)\n",
    "\n",
    "plt.show()"
   ]
  },
  {
   "cell_type": "code",
   "execution_count": null,
   "metadata": {},
   "outputs": [],
   "source": [
    "summary_data = []\n",
    "\n",
    "size_classes = ['XS', 'S', 'M', 'L']\n",
    "sfls = ['SF_1', 'SF_10', 'SF_100', 'SF_1000']\n",
    "\n",
    "for size_class in size_classes:\n",
    "    for sf in sfls:\n",
    "        subset_sf = df[(df[\"Warehouse Size\"] == size_class) & (df[\"Scaling Factor (SF)\"] == sf)]\n",
    "        \n",
    "        for query in subset_sf[\"Query Number\"].unique():\n",
    "            subset_query = subset_sf[subset_sf[\"Query Number\"] == query]\n",
    "            \n",
    "            if not subset_query.empty:\n",
    "                stats = subset_query[\"Execution Time\"].describe()\n",
    "                summary_data.append({\n",
    "                    \"Warehouse Size\": size_class,\n",
    "                    \"Scaling Factor\": sf,\n",
    "                    \"Query Number\": query,\n",
    "                    \"Count\": int(stats[\"count\"]),\n",
    "                    \"Mean\": round(stats[\"mean\"], 2),\n",
    "                    \"Std Dev\": round(stats[\"std\"], 2),\n",
    "                    \"Min\": round(stats[\"min\"], 2),\n",
    "                    \"25%\": round(stats[\"25%\"], 2),\n",
    "                    \"50% (Median)\": round(stats[\"50%\"], 2),\n",
    "                    \"75%\": round(stats[\"75%\"], 2),\n",
    "                    \"Max\": round(stats[\"max\"], 2)\n",
    "                })\n",
    "\n",
    "summary_df = pd.DataFrame(summary_data)\n",
    "\n",
    "summary_df.set_index([\"Warehouse Size\", \"Scaling Factor\", \"Query Number\"], inplace=True)"
   ]
  },
  {
   "cell_type": "code",
   "execution_count": null,
   "metadata": {},
   "outputs": [],
   "source": [
    "summary_df"
   ]
  },
  {
   "cell_type": "markdown",
   "metadata": {},
   "source": [
    "### Implementations"
   ]
  },
  {
   "cell_type": "code",
   "execution_count": null,
   "metadata": {},
   "outputs": [],
   "source": [
    "python_results = pd.read_csv(\n",
    "    'implementations/results/Python/execution_times.txt', \n",
    "    names=['execution_time'], \n",
    "    header=None  \n",
    ")"
   ]
  },
  {
   "cell_type": "code",
   "execution_count": null,
   "metadata": {},
   "outputs": [],
   "source": [
    "sql_results = pd.read_csv(\n",
    "    'implementations/results/SQL/execution_times.txt', \n",
    "    names=['execution_time'], \n",
    "    header=None  \n",
    ")"
   ]
  },
  {
   "cell_type": "code",
   "execution_count": null,
   "metadata": {},
   "outputs": [],
   "source": [
    "sql_queries_results = pd.read_json(\n",
    "    'implementations/results/SQL/per_query_times.json', \n",
    ")"
   ]
  },
  {
   "cell_type": "code",
   "execution_count": null,
   "metadata": {},
   "outputs": [],
   "source": [
    "data = [sql_results['execution_time'], python_results['execution_time']]\n",
    "\n",
    "plt.figure(figsize=(8, 5))\n",
    "plt.boxplot(data)\n",
    "\n",
    "plt.xticks([1, 2], ['SQL', 'Python'], fontsize=12)\n",
    "plt.title('Naive Bayes Training Performance Comparison', fontsize=14, fontweight='bold')\n",
    "plt.ylabel('Execution Time (s)', fontsize=12)\n",
    "plt.grid(axis='y', linestyle='--', alpha=0.7)\n",
    "\n",
    "plt.tight_layout()\n",
    "plt.show()"
   ]
  },
  {
   "cell_type": "code",
   "execution_count": null,
   "metadata": {},
   "outputs": [],
   "source": [
    "plt.figure(figsize=(10, 5))\n",
    "sql_queries_results.boxplot(grid=False)\n",
    "\n",
    "plt.title('SQL Implementation - Query Performance', fontsize=14)\n",
    "plt.ylabel('Execution time (s)', fontsize=10)\n",
    "plt.xticks(rotation=45)\n",
    "plt.grid(axis='y', linestyle='--', alpha=0.7)\n",
    "\n",
    "plt.tight_layout()\n",
    "plt.show()"
   ]
  }
 ],
 "metadata": {
  "kernelspec": {
   "display_name": ".venv",
   "language": "python",
   "name": "python3"
  },
  "language_info": {
   "codemirror_mode": {
    "name": "ipython",
    "version": 3
   },
   "file_extension": ".py",
   "mimetype": "text/x-python",
   "name": "python",
   "nbconvert_exporter": "python",
   "pygments_lexer": "ipython3",
   "version": "3.12.2"
  }
 },
 "nbformat": 4,
 "nbformat_minor": 2
}
