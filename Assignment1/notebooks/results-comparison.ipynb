{
 "cells": [
  {
   "cell_type": "code",
   "execution_count": null,
   "metadata": {},
   "outputs": [],
   "source": [
    "import numpy as np\n",
    "from dotenv import load_dotenv\n",
    "import os\n",
    "from sqlalchemy import create_engine, text\n",
    "import pandas as pd\n",
    "import json\n",
    "from sklearn.metrics import classification_report\n",
    "from sklearn.feature_extraction.text import CountVectorizer\n",
    "import time\n",
    "import math"
   ]
  },
  {
   "cell_type": "code",
   "execution_count": null,
   "metadata": {},
   "outputs": [],
   "source": [
    "load_dotenv()"
   ]
  },
  {
   "cell_type": "code",
   "execution_count": null,
   "metadata": {},
   "outputs": [],
   "source": [
    "username = os.getenv('SNOWFLAKE_USER')\n",
    "password = os.getenv('SNOWFLAKE_PASSWORD')\n",
    "account = os.getenv('SNOWFLAKE_ACCOUNT')\n",
    "warehouse = os.getenv('SNOWFLAKE_WAREHOUSE')\n",
    "database = os.getenv('SNOWFLAKE_DATABASE')\n",
    "schema = os.getenv('SNOWFLAKE_SCHEMA')"
   ]
  },
  {
   "cell_type": "code",
   "execution_count": null,
   "metadata": {},
   "outputs": [],
   "source": [
    "engine = create_engine(\n",
    "    f'snowflake://{username}:{password}@{account}/{database}/{schema}?warehouse={warehouse}'\n",
    ")"
   ]
  },
  {
   "cell_type": "code",
   "execution_count": null,
   "metadata": {},
   "outputs": [],
   "source": [
    "query_Python = \"SELECT * FROM MODEL_PARAMETERS\"\n",
    "with engine.connect() as connection:\n",
    "    result = connection.execute(text(query_Python))\n",
    "    rows = result.fetchall()\n",
    "trained_Python = pd.DataFrame(rows)"
   ]
  },
  {
   "cell_type": "code",
   "execution_count": null,
   "metadata": {},
   "outputs": [],
   "source": [
    "query_SQL = \"SELECT * FROM NB_MODEL\"\n",
    "with engine.connect() as connection:\n",
    "    result = connection.execute(text(query_SQL))\n",
    "    rows = result.fetchall()\n",
    "trained_SQL = pd.DataFrame(rows)"
   ]
  },
  {
   "cell_type": "markdown",
   "metadata": {},
   "source": [
    "### Transform the test data"
   ]
  },
  {
   "cell_type": "code",
   "execution_count": null,
   "metadata": {},
   "outputs": [],
   "source": [
    "train = pd.read_parquet('../yelp_review_full/yelp_review_full/train-00000-of-00001.parquet')"
   ]
  },
  {
   "cell_type": "code",
   "execution_count": null,
   "metadata": {},
   "outputs": [],
   "source": [
    "train = train[:1000]"
   ]
  },
  {
   "cell_type": "code",
   "execution_count": null,
   "metadata": {},
   "outputs": [],
   "source": [
    "train = train[train['label'].isin([0,1])]"
   ]
  },
  {
   "cell_type": "code",
   "execution_count": null,
   "metadata": {},
   "outputs": [],
   "source": [
    "test = pd.read_parquet('../yelp_review_full/yelp_review_full/test-00000-of-00001.parquet')"
   ]
  },
  {
   "cell_type": "code",
   "execution_count": null,
   "metadata": {},
   "outputs": [],
   "source": [
    "test = test[test['label'].isin([0,1])]"
   ]
  },
  {
   "cell_type": "code",
   "execution_count": null,
   "metadata": {},
   "outputs": [],
   "source": [
    "test = test[:100]"
   ]
  },
  {
   "cell_type": "code",
   "execution_count": null,
   "metadata": {},
   "outputs": [],
   "source": [
    "y_true = list(test['label'].astype(str))"
   ]
  },
  {
   "cell_type": "code",
   "execution_count": null,
   "metadata": {},
   "outputs": [],
   "source": [
    "vectorizer = CountVectorizer()\n",
    "training_data = vectorizer.fit_transform(train['text'])\n",
    "test_data = vectorizer.transform(test['text'])"
   ]
  },
  {
   "cell_type": "markdown",
   "metadata": {},
   "source": [
    "#### Predict"
   ]
  },
  {
   "cell_type": "code",
   "execution_count": null,
   "metadata": {},
   "outputs": [],
   "source": [
    "def predict(X_test, df_train):\n",
    "    prior_1 = float(df_train.loc[(df_train['feature'] == '__PRIOR__') & (df_train['label'] == '1'), 'probability'].iloc[0])\n",
    "    prior_0 = float(df_train.loc[(df_train['feature'] == '__PRIOR__') & (df_train['label'] == '0'), 'probability'].iloc[0])\n",
    "\n",
    "    df_train_filtered = df_train[df_train['feature'] != '__PRIOR__'].copy()\n",
    "\n",
    "    label_word_probs = {}\n",
    "    labels = df_train['label'].unique()\n",
    "    for label in labels:\n",
    "        label_word_probs[label] = df_train_filtered[df_train_filtered['label'] == label].set_index('feature')['probability'].to_dict()\n",
    "\n",
    "    feature_names = df_train_filtered['feature'].unique()\n",
    "\n",
    "    log_prior_1 = math.log(prior_1)\n",
    "    log_prior_0 = math.log(prior_0)\n",
    "\n",
    "    predictions = []\n",
    "\n",
    "    for test_vector in X_test.toarray():\n",
    "        results = {}\n",
    "        for label in labels:\n",
    "            class_probabilities = 0\n",
    "            word_probs = label_word_probs[label]\n",
    "            for i, word_count in enumerate(test_vector):\n",
    "                if word_count > 0:\n",
    "                    word_name = feature_names[i]\n",
    "                    word_prob = word_probs.get(word_name, 1e-10)  # Use a small value for unseen words\n",
    "                    if float(word_prob) > 0:\n",
    "                        class_probabilities += word_count * math.log(float(word_prob))\n",
    "\n",
    "            if label == '1':\n",
    "                results[label] = log_prior_1 + class_probabilities\n",
    "            else:\n",
    "                results[label] = log_prior_0 + class_probabilities\n",
    "\n",
    "        predictions.append(max(results, key=results.get))\n",
    "\n",
    "    return predictions\n"
   ]
  },
  {
   "cell_type": "code",
   "execution_count": null,
   "metadata": {},
   "outputs": [],
   "source": [
    "predict_Python  = predict(test_data,trained_Python)"
   ]
  },
  {
   "cell_type": "code",
   "execution_count": null,
   "metadata": {},
   "outputs": [],
   "source": [
    "print(classification_report(y_true,predict_Python))"
   ]
  },
  {
   "cell_type": "code",
   "execution_count": null,
   "metadata": {},
   "outputs": [],
   "source": [
    "predict_SQL = predict(test_data,trained_Python)"
   ]
  },
  {
   "cell_type": "code",
   "execution_count": null,
   "metadata": {},
   "outputs": [],
   "source": [
    "print(classification_report(y_true,predict_SQL))"
   ]
  }
 ],
 "metadata": {
  "kernelspec": {
   "display_name": ".venv",
   "language": "python",
   "name": "python3"
  },
  "language_info": {
   "codemirror_mode": {
    "name": "ipython",
    "version": 3
   },
   "file_extension": ".py",
   "mimetype": "text/x-python",
   "name": "python",
   "nbconvert_exporter": "python",
   "pygments_lexer": "ipython3",
   "version": "3.12.2"
  }
 },
 "nbformat": 4,
 "nbformat_minor": 2
}
