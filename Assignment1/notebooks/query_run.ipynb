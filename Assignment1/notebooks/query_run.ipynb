{
 "cells": [
  {
   "cell_type": "code",
   "execution_count": null,
   "metadata": {},
   "outputs": [],
   "source": [
    "import numpy as np\n",
    "from dotenv import load_dotenv\n",
    "import os\n",
    "from sqlalchemy import create_engine, text\n",
    "import pandas as pd\n",
    "import json\n",
    "from naivebayes import NaiveBayesTextClassifier\n",
    "from sklearn.metrics import classification_report\n",
    "from sklearn.feature_extraction.text import CountVectorizer\n",
    "import time\n",
    "import math"
   ]
  },
  {
   "cell_type": "code",
   "execution_count": null,
   "metadata": {},
   "outputs": [],
   "source": [
    "load_dotenv()"
   ]
  },
  {
   "cell_type": "code",
   "execution_count": null,
   "metadata": {},
   "outputs": [],
   "source": [
    "username = os.getenv('SNOWFLAKE_USER')\n",
    "password = os.getenv('SNOWFLAKE_PASSWORD')\n",
    "account = os.getenv('SNOWFLAKE_ACCOUNT')\n",
    "warehouse = os.getenv('SNOWFLAKE_WAREHOUSE')\n",
    "database = os.getenv('SNOWFLAKE_DATABASE_TPC')\n",
    "schema = os.getenv('SNOWFLAKE_SCHEMA_TPC')"
   ]
  },
  {
   "cell_type": "code",
   "execution_count": null,
   "metadata": {},
   "outputs": [],
   "source": [
    "engine = create_engine(\n",
    "    f'snowflake://{username}:{password}@{account}/{database}/{schema}?warehouse={warehouse}'\n",
    ")"
   ]
  },
  {
   "cell_type": "code",
   "execution_count": null,
   "metadata": {},
   "outputs": [],
   "source": [
    "Query1 = \"\"\"\n",
    "SELECT\n",
    "    l_returnflag,\n",
    "    l_linestatus,\n",
    "    SUM(l_quantity) AS sum_qty,\n",
    "    SUM(l_extendedprice) AS sum_base_price,\n",
    "    SUM(l_extendedprice * (1 - l_discount)) AS sum_disc_price,\n",
    "    SUM(l_extendedprice * (1 - l_discount) * (1 + l_tax)) AS sum_charge,\n",
    "    AVG(l_quantity) AS avg_qty,\n",
    "    AVG(l_extendedprice) AS avg_price,\n",
    "    AVG(l_discount) AS avg_disc,\n",
    "    COUNT(*) AS count_order\n",
    "FROM\n",
    "    lineitem\n",
    "WHERE\n",
    "    l_shipdate <= DATEADD(DAY, -90, DATE '1998-12-01')\n",
    "GROUP BY\n",
    "    l_returnflag,\n",
    "    l_linestatus\n",
    "ORDER BY\n",
    "    l_returnflag,\n",
    "    l_linestatus;\n",
    "\"\"\"\n"
   ]
  },
  {
   "cell_type": "code",
   "execution_count": null,
   "metadata": {},
   "outputs": [],
   "source": [
    "Query5 = \"\"\"\n",
    "SELECT\n",
    "    n_name,\n",
    "    SUM(l_extendedprice * (1 - l_discount)) AS revenue\n",
    "FROM\n",
    "    customer,\n",
    "    orders,\n",
    "    lineitem,\n",
    "    supplier,\n",
    "    nation,\n",
    "    region\n",
    "WHERE\n",
    "    c_custkey = o_custkey\n",
    "    AND l_orderkey = o_orderkey\n",
    "    AND l_suppkey = s_suppkey\n",
    "    AND c_nationkey = s_nationkey\n",
    "    AND s_nationkey = n_nationkey\n",
    "    AND n_regionkey = r_regionkey\n",
    "    AND r_name = 'ASIA'\n",
    "    AND o_orderdate >= DATE '1994-01-01'\n",
    "    AND o_orderdate < DATEADD(YEAR, 1, DATE '1994-01-01')\n",
    "GROUP BY\n",
    "    n_name\n",
    "ORDER BY\n",
    "    revenue DESC;\n",
    "\"\"\"\n"
   ]
  },
  {
   "cell_type": "code",
   "execution_count": null,
   "metadata": {},
   "outputs": [],
   "source": [
    "Query18 = \"\"\"\n",
    "SELECT\n",
    "    c_name,\n",
    "    c_custkey,\n",
    "    o_orderkey,\n",
    "    o_orderdate,\n",
    "    o_totalprice,\n",
    "    SUM(l_quantity) AS total_quantity\n",
    "FROM\n",
    "    customer,\n",
    "    orders,\n",
    "    lineitem\n",
    "WHERE\n",
    "    o_orderkey IN (\n",
    "        SELECT\n",
    "            l_orderkey\n",
    "        FROM\n",
    "            lineitem\n",
    "        GROUP BY\n",
    "            l_orderkey\n",
    "        HAVING\n",
    "            SUM(l_quantity) > 300\n",
    "    )\n",
    "    AND c_custkey = o_custkey\n",
    "    AND o_orderkey = l_orderkey\n",
    "GROUP BY\n",
    "    c_name,\n",
    "    c_custkey,\n",
    "    o_orderkey,\n",
    "    o_orderdate,\n",
    "    o_totalprice\n",
    "ORDER BY\n",
    "    o_totalprice DESC,\n",
    "    o_orderdate;\n",
    "\"\"\"\n"
   ]
  },
  {
   "cell_type": "code",
   "execution_count": null,
   "metadata": {},
   "outputs": [],
   "source": [
    "def query_run(query, number):\n",
    "    profiling_folder = os.path.join('results', f'query_{number}')\n",
    "    os.makedirs(profiling_folder, exist_ok=True)\n",
    "    execution_times = []  # Initialize execution_times list\n",
    "    \n",
    "    try:\n",
    "        with engine.connect() as connection:\n",
    "            for i in range(100):\n",
    "                start_time = time.time()\n",
    "                result = connection.execute(text(query))\n",
    "                rows = result.fetchall()  # Optional: Remove if rows aren't needed\n",
    "                end_time = time.time()\n",
    "                elapsed_time = end_time - start_time\n",
    "                execution_times.append(elapsed_time)\n",
    "                print(f\"Iteration {i + 1}: Query executed in {elapsed_time:.4f} seconds.\")\n",
    "    except Exception as e:\n",
    "        print(f\"Error executing query: {e}\")\n",
    "        return  # Exit function if query execution fails\n",
    "\n",
    "    file_path = os.path.join(profiling_folder, \"execution_times.txt\")\n",
    "    try:\n",
    "        with open(file_path, \"w\") as file:\n",
    "            for exec_time in execution_times:\n",
    "                file.write(f\"{exec_time:.4f}\\n\")\n",
    "        print(f\"Execution times saved to {file_path}\")\n",
    "    except Exception as e:\n",
    "        print(f\"Error saving execution times to file: {e}\")\n"
   ]
  },
  {
   "cell_type": "code",
   "execution_count": null,
   "metadata": {},
   "outputs": [],
   "source": [
    "query_run(Query1,'1')"
   ]
  },
  {
   "cell_type": "code",
   "execution_count": null,
   "metadata": {},
   "outputs": [],
   "source": [
    "query_run(Query5,'5')"
   ]
  },
  {
   "cell_type": "code",
   "execution_count": null,
   "metadata": {},
   "outputs": [],
   "source": [
    "query_run(Query18,'18')"
   ]
  }
 ],
 "metadata": {
  "kernelspec": {
   "display_name": ".venv",
   "language": "python",
   "name": "python3"
  },
  "language_info": {
   "codemirror_mode": {
    "name": "ipython",
    "version": 3
   },
   "file_extension": ".py",
   "mimetype": "text/x-python",
   "name": "python",
   "nbconvert_exporter": "python",
   "pygments_lexer": "ipython3",
   "version": "3.12.2"
  }
 },
 "nbformat": 4,
 "nbformat_minor": 2
}
