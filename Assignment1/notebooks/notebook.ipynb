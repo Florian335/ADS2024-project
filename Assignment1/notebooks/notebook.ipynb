{
 "cells": [
  {
   "cell_type": "code",
   "execution_count": null,
   "metadata": {},
   "outputs": [],
   "source": [
    "import numpy as np\n",
    "from dotenv import load_dotenv\n",
    "import os\n",
    "from sqlalchemy import create_engine, text\n",
    "import pandas as pd\n",
    "import json\n",
    "# from naivebayes import NaiveBayesTextClassifier\n",
    "from sklearn.metrics import classification_report\n",
    "from sklearn.feature_extraction.text import CountVectorizer\n",
    "import time\n",
    "import math"
   ]
  },
  {
   "cell_type": "code",
   "execution_count": null,
   "metadata": {},
   "outputs": [],
   "source": [
    "load_dotenv()"
   ]
  },
  {
   "cell_type": "code",
   "execution_count": null,
   "metadata": {},
   "outputs": [],
   "source": [
    "username = os.getenv('SNOWFLAKE_USER')\n",
    "password = os.getenv('SNOWFLAKE_PASSWORD')\n",
    "account = os.getenv('SNOWFLAKE_ACCOUNT')\n",
    "warehouse = os.getenv('SNOWFLAKE_WAREHOUSE')\n",
    "database = os.getenv('SNOWFLAKE_DATABASE')\n",
    "schema = os.getenv('SNOWFLAKE_SCHEMA')"
   ]
  },
  {
   "cell_type": "code",
   "execution_count": null,
   "metadata": {},
   "outputs": [],
   "source": [
    "engine = create_engine(\n",
    "    f'snowflake://{username}:{password}@{account}/{database}/{schema}?warehouse={warehouse}'\n",
    ")"
   ]
  },
  {
   "cell_type": "code",
   "execution_count": null,
   "metadata": {},
   "outputs": [],
   "source": [
    "# query = [\n",
    "# \"\"\"\n",
    "# CREATE OR REPLACE TABLE MODEL_PARAMETERS AS\n",
    "# SELECT results.*\n",
    "# FROM (\n",
    "#     SELECT 'TRAIN' AS mode,\n",
    "#            parse_json(u.COL1):label::string AS label,\n",
    "#            parse_json(u.COL1):text::string AS text\n",
    "#     FROM TRAINING AS u\n",
    "#     WHERE parse_json(u.COL1):label::string IN ('0', '1') -- Filter labels\n",
    "#     LIMIT 1000\n",
    "# ) AS data,\n",
    "#      TABLE(train_and_predict_classifier(data.mode, data.label, data.text) OVER ()) AS results\n",
    "# \"\"\"\n",
    "# ]"
   ]
  },
  {
   "cell_type": "code",
   "execution_count": null,
   "metadata": {},
   "outputs": [],
   "source": [
    "queries = [\n",
    "    \"\"\"\n",
    "    CREATE OR REPLACE TABLE TRAINING_RAW AS\n",
    "    SELECT \n",
    "      CAST(PARSE_JSON(COL1):\"label\" AS INT) AS LABEL,\n",
    "      CAST(PARSE_JSON(COL1):\"text\" AS VARCHAR) AS TEXT\n",
    "    FROM TRAINING\n",
    "    WHERE CAST(PARSE_JSON(COL1):\"label\" AS INT) IN (0, 1)\n",
    "    \"\"\",\n",
    "    \"\"\"\n",
    "    CREATE OR REPLACE TABLE TOKENIZED_DATA AS\n",
    "    SELECT\n",
    "      t.LABEL,\n",
    "      t2.VALUE AS TOKEN\n",
    "    FROM (\n",
    "      SELECT LABEL, TEXT\n",
    "      FROM TRAINING_RAW\n",
    "      LIMIT 1000\n",
    "    ) t,\n",
    "    LATERAL SPLIT_TO_TABLE(t.TEXT, ' ') t2\n",
    "    \"\"\",\n",
    "    \"\"\"\n",
    "    CREATE OR REPLACE TABLE CLEAN_TOKENS AS\n",
    "    SELECT\n",
    "      LABEL,\n",
    "      LOWER(REGEXP_REPLACE(TOKEN, '[^a-zA-Z0-9]', '')) AS TOKEN\n",
    "    FROM TOKENIZED_DATA\n",
    "    WHERE TOKEN <> ''\n",
    "    \"\"\",\n",
    "    \"\"\"\n",
    "    CREATE OR REPLACE TABLE LABEL_COUNTS AS\n",
    "    SELECT\n",
    "      LABEL,\n",
    "      COUNT(*) AS LABEL_COUNT\n",
    "    FROM CLEAN_TOKENS\n",
    "    GROUP BY LABEL\n",
    "    \"\"\",\n",
    "    \"\"\"\n",
    "    CREATE OR REPLACE TABLE FEATURE_LABEL_COUNTS AS\n",
    "    SELECT\n",
    "      TOKEN AS FEATURE,\n",
    "      LABEL,\n",
    "      COUNT(*) AS FEATURE_LABEL_COUNT\n",
    "    FROM CLEAN_TOKENS\n",
    "    GROUP BY TOKEN, LABEL\n",
    "    \"\"\",\n",
    "    \"\"\"\n",
    "    CREATE OR REPLACE TABLE TOTAL_COUNT AS\n",
    "    SELECT SUM(LABEL_COUNT) AS TOTAL\n",
    "    FROM LABEL_COUNTS\n",
    "    \"\"\",\n",
    "    \"\"\"\n",
    "    CREATE OR REPLACE TABLE LABEL_PROBABILITIES AS\n",
    "    SELECT\n",
    "      LABEL,\n",
    "      (LABEL_COUNT * 1.0) / (SELECT TOTAL FROM TOTAL_COUNT) AS P_LABEL\n",
    "    FROM LABEL_COUNTS\n",
    "    \"\"\",\n",
    "    \"\"\"\n",
    "    CREATE OR REPLACE TABLE FEATURE_PROBABILITIES AS\n",
    "    SELECT\n",
    "        FL.FEATURE,\n",
    "        FL.LABEL,\n",
    "        (FL.FEATURE_LABEL_COUNT * 1.0) / LC.LABEL_COUNT AS P_FEATURE_LABEL\n",
    "    FROM FEATURE_LABEL_COUNTS FL\n",
    "    JOIN LABEL_COUNTS LC ON FL.LABEL = LC.LABEL\n",
    "    \"\"\",\n",
    "    \"\"\"\n",
    "    CREATE OR REPLACE TABLE NB_MODEL (\n",
    "        FEATURE VARCHAR(16777216),\n",
    "        LABEL VARCHAR(16777216),\n",
    "        PROBABILITY VARCHAR(16777216)\n",
    "    ) AS\n",
    "    SELECT\n",
    "        FEATURE,\n",
    "        LABEL,\n",
    "        TO_VARCHAR(P_FEATURE_LABEL) AS PROBABILITY\n",
    "    FROM FEATURE_PROBABILITIES\n",
    "    \"\"\"\n",
    "]"
   ]
  },
  {
   "cell_type": "code",
   "execution_count": null,
   "metadata": {},
   "outputs": [],
   "source": [
    "per_query_times = {f\"query_{i+1}\": [] for i in range(len(queries))}\n",
    "total_execution_times = []\n",
    "\n",
    "try:\n",
    "    with engine.connect() as connection:\n",
    "        for _ in range(100):\n",
    "            start_time = time.time()\n",
    "            for i, q in enumerate(queries, start=1):\n",
    "                q_start = time.time()\n",
    "                connection.execute(text(q))\n",
    "                q_end = time.time()\n",
    "                per_query_times[f\"query_{i}\"].append(q_end - q_start)\n",
    "            end_time = time.time()\n",
    "            print(f\"Iteration {_+1}: Queries executed in {end_time - start_time:.4f} seconds.\")\n",
    "            total_execution_times.append(end_time - start_time)\n",
    "\n",
    "except Exception as e:\n",
    "    print(f\"Error executing query: {e}\")\n",
    "\n",
    "# Create the JSON structure\n",
    "output_data = {\n",
    "    **per_query_times,\n",
    "}\n",
    "\n",
    "# Save to JSON\n",
    "output_file = \"per_query_times.json\"\n",
    "with open(output_file, 'w') as f:\n",
    "    json.dump(output_data, f, indent=4)\n",
    "\n",
    "print(f\"Per-query times and total execution times have been saved to {output_file}\")\n"
   ]
  },
  {
   "cell_type": "code",
   "execution_count": null,
   "metadata": {},
   "outputs": [],
   "source": [
    "file_path = \"execution_times.txt\"\n",
    "\n",
    "try:\n",
    "    with open(file_path, \"w\") as file:\n",
    "        for time in total_execution_times:\n",
    "            file.write(f\"{time:.4f}\\n\")  \n",
    "    print(f\"Execution times saved to {file_path}\")\n",
    "except Exception as e:\n",
    "    print(f\"Error saving execution times to file: {e}\")\n"
   ]
  },
  {
   "cell_type": "code",
   "execution_count": null,
   "metadata": {},
   "outputs": [],
   "source": [
    "query = \"SELECT * FROM MODEL_PARAMETERS\""
   ]
  },
  {
   "cell_type": "code",
   "execution_count": null,
   "metadata": {},
   "outputs": [],
   "source": [
    "with engine.connect() as connection:\n",
    "    result = connection.execute(text(query))\n",
    "    rows = result.fetchall()"
   ]
  },
  {
   "cell_type": "code",
   "execution_count": null,
   "metadata": {},
   "outputs": [],
   "source": [
    "trained = pd.DataFrame(rows)"
   ]
  },
  {
   "cell_type": "markdown",
   "metadata": {},
   "source": [
    "### Transform the test data"
   ]
  },
  {
   "cell_type": "code",
   "execution_count": null,
   "metadata": {},
   "outputs": [],
   "source": [
    "train = pd.read_parquet('yelp_review_full/yelp_review_full/train-00000-of-00001.parquet')"
   ]
  },
  {
   "cell_type": "code",
   "execution_count": null,
   "metadata": {},
   "outputs": [],
   "source": [
    "train = train[:1000]"
   ]
  },
  {
   "cell_type": "code",
   "execution_count": null,
   "metadata": {},
   "outputs": [],
   "source": [
    "train = train[train['label'].isin([0,1])]"
   ]
  },
  {
   "cell_type": "code",
   "execution_count": null,
   "metadata": {},
   "outputs": [],
   "source": [
    "test = pd.read_parquet('yelp_review_full/yelp_review_full/test-00000-of-00001.parquet')"
   ]
  },
  {
   "cell_type": "code",
   "execution_count": null,
   "metadata": {},
   "outputs": [],
   "source": [
    "test = test[test['label'].isin([0,1])]"
   ]
  },
  {
   "cell_type": "code",
   "execution_count": null,
   "metadata": {},
   "outputs": [],
   "source": [
    "test = test[:100]"
   ]
  },
  {
   "cell_type": "code",
   "execution_count": null,
   "metadata": {},
   "outputs": [],
   "source": [
    "vectorizer = CountVectorizer()\n",
    "training_data = vectorizer.fit_transform(train['text'])\n",
    "test_data = vectorizer.transform(test['text'])"
   ]
  },
  {
   "cell_type": "markdown",
   "metadata": {},
   "source": [
    "#### Predict"
   ]
  },
  {
   "cell_type": "code",
   "execution_count": null,
   "metadata": {},
   "outputs": [],
   "source": [
    "def predict(X_test, df_train):\n",
    "    prior_1 = float(df_train.loc[(df_train['feature'] == '__PRIOR__') & (df_train['label'] == '1'), 'probability'].iloc[0])\n",
    "    prior_0 = float(df_train.loc[(df_train['feature'] == '__PRIOR__') & (df_train['label'] == '0'), 'probability'].iloc[0])\n",
    "    \n",
    "    df_train_filtered = df_train[df_train['feature'] != '__PRIOR__'].copy()\n",
    "    \n",
    "    label_word_probs = {}\n",
    "    labels = df_train['label'].unique()\n",
    "    for label in labels:\n",
    "        label_word_probs[label] = df_train_filtered[df_train_filtered['label'] == label].set_index('feature')['probability'].to_dict()\n",
    "    \n",
    "    predictions = []\n",
    "    \n",
    "    for test_vector in X_test.toarray():\n",
    "        results = {}\n",
    "        for label in labels:\n",
    "            class_probabilities = 0\n",
    "            word_probs = label_word_probs[label]\n",
    "            for i, word_count in enumerate(test_vector):\n",
    "                if word_count > 0:\n",
    "                    word_prob = word_probs.get(i, 0)  \n",
    "                    if word_prob > 0:\n",
    "                        class_probabilities += word_count * math.log(word_prob)\n",
    "            \n",
    "            if label == '1':\n",
    "                results[label] = math.log(prior_1) + class_probabilities\n",
    "            else:\n",
    "                results[label] = math.log(prior_0) + class_probabilities\n",
    "        \n",
    "        predictions.append(max(results, key=results.get))\n",
    "    \n",
    "    return predictions\n"
   ]
  },
  {
   "cell_type": "code",
   "execution_count": null,
   "metadata": {},
   "outputs": [],
   "source": [
    "ls  = predict(test_data,trained)"
   ]
  }
 ],
 "metadata": {
  "kernelspec": {
   "display_name": ".venv",
   "language": "python",
   "name": "python3"
  },
  "language_info": {
   "codemirror_mode": {
    "name": "ipython",
    "version": 3
   },
   "file_extension": ".py",
   "mimetype": "text/x-python",
   "name": "python",
   "nbconvert_exporter": "python",
   "pygments_lexer": "ipython3",
   "version": "3.12.2"
  }
 },
 "nbformat": 4,
 "nbformat_minor": 2
}
