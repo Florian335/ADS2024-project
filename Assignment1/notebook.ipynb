{
 "cells": [
  {
   "cell_type": "code",
   "execution_count": null,
   "metadata": {},
   "outputs": [],
   "source": [
    "import numpy as np\n",
    "from dotenv import load_dotenv\n",
    "import os\n",
    "from sqlalchemy import create_engine, text\n",
    "import pandas as pd\n",
    "import json\n",
    "from naivebayes import NaiveBayesTextClassifier\n",
    "from sklearn.metrics import classification_report\n",
    "from sklearn.feature_extraction.text import CountVectorizer\n",
    "import time\n",
    "import math"
   ]
  },
  {
   "cell_type": "code",
   "execution_count": null,
   "metadata": {},
   "outputs": [],
   "source": [
    "load_dotenv()"
   ]
  },
  {
   "cell_type": "code",
   "execution_count": null,
   "metadata": {},
   "outputs": [],
   "source": [
    "username = os.getenv('SNOWFLAKE_USER')\n",
    "password = os.getenv('SNOWFLAKE_PASSWORD')\n",
    "account = os.getenv('SNOWFLAKE_ACCOUNT')\n",
    "warehouse = os.getenv('SNOWFLAKE_WAREHOUSE')\n",
    "database = os.getenv('SNOWFLAKE_DATABASE')\n",
    "schema = os.getenv('SNOWFLAKE_SCHEMA')"
   ]
  },
  {
   "cell_type": "code",
   "execution_count": null,
   "metadata": {},
   "outputs": [],
   "source": [
    "engine = create_engine(\n",
    "    f'snowflake://{username}:{password}@{account}/{database}/{schema}?warehouse={warehouse}'\n",
    ")"
   ]
  },
  {
   "cell_type": "code",
   "execution_count": null,
   "metadata": {},
   "outputs": [],
   "source": [
    "query = \"\"\"\n",
    "CREATE OR REPLACE TABLE MODEL_PARAMETERS AS\n",
    "SELECT results.*\n",
    "FROM (\n",
    "    SELECT 'TRAIN' AS mode,\n",
    "           parse_json(u.COL1):label::string AS label,\n",
    "           parse_json(u.COL1):text::string AS text\n",
    "    FROM TRAINING AS u\n",
    "    WHERE parse_json(u.COL1):label::string IN ('0', '1') -- Filter labels\n",
    "    LIMIT 1000\n",
    ") AS data,\n",
    "     TABLE(train_and_predict_classifier(data.mode, data.label, data.text) OVER ()) AS results\n",
    "     WHERE results.feature != '__PRIOR__'; -- Exclude prior probabilities\n",
    "\"\"\"\n"
   ]
  },
  {
   "cell_type": "code",
   "execution_count": null,
   "metadata": {},
   "outputs": [],
   "source": [
    "execution_times = []\n",
    "\n",
    "try:\n",
    "    with engine.connect() as connection:\n",
    "        for i in range(100):\n",
    "            start_time = time.time()\n",
    "            result = connection.execute(text(query))\n",
    "            rows = result.fetchall()\n",
    "            end_time = time.time()\n",
    "            execution_times.append(end_time - start_time)\n",
    "            print(f\"Iteration {i+1}: Query executed in {end_time - start_time:.4f} seconds.\")\n",
    "except Exception as e:\n",
    "    print(f\"Error executing query: {e}\")\n",
    "\n",
    "average_time = sum(execution_times) / len(execution_times) if execution_times else 0\n",
    "execution_summary = {\n",
    "    \"iterations\": len(execution_times),\n",
    "    \"average_time\": average_time,\n",
    "    \"total_time\": sum(execution_times),\n",
    "    \"max_time\": max(execution_times, default=0),\n",
    "    \"min_time\": min(execution_times, default=0),\n",
    "}\n",
    "\n",
    "print(\"\\nExecution Summary:\")\n",
    "print(f\"Total Iterations: {execution_summary['iterations']}\")\n",
    "print(f\"Average Time: {execution_summary['average_time']:.4f} seconds\")\n",
    "print(f\"Total Time: {execution_summary['total_time']:.4f} seconds\")\n",
    "print(f\"Max Time: {execution_summary['max_time']:.4f} seconds\")\n",
    "print(f\"Min Time: {execution_summary['min_time']:.4f} seconds\")"
   ]
  },
  {
   "cell_type": "code",
   "execution_count": null,
   "metadata": {},
   "outputs": [],
   "source": [
    "file_path = \"execution_times.txt\"\n",
    "\n",
    "try:\n",
    "    with open(file_path, \"w\") as file:\n",
    "        for time in execution_times:\n",
    "            file.write(f\"{time:.4f}\\n\")  \n",
    "    print(f\"Execution times saved to {file_path}\")\n",
    "except Exception as e:\n",
    "    print(f\"Error saving execution times to file: {e}\")\n"
   ]
  },
  {
   "cell_type": "code",
   "execution_count": null,
   "metadata": {},
   "outputs": [],
   "source": [
    "query = \"SELECT * FROM MODEL_PARAMETERS\""
   ]
  },
  {
   "cell_type": "code",
   "execution_count": null,
   "metadata": {},
   "outputs": [],
   "source": [
    "with engine.connect() as connection:\n",
    "    result = connection.execute(text(query))\n",
    "    rows = result.fetchall()"
   ]
  },
  {
   "cell_type": "code",
   "execution_count": null,
   "metadata": {},
   "outputs": [],
   "source": [
    "trained = pd.DataFrame(rows)"
   ]
  },
  {
   "cell_type": "markdown",
   "metadata": {},
   "source": [
    "### Transform the test data"
   ]
  },
  {
   "cell_type": "code",
   "execution_count": null,
   "metadata": {},
   "outputs": [],
   "source": [
    "train = pd.read_parquet('yelp_review_full/yelp_review_full/train-00000-of-00001.parquet')"
   ]
  },
  {
   "cell_type": "code",
   "execution_count": null,
   "metadata": {},
   "outputs": [],
   "source": [
    "train = train[:1000]"
   ]
  },
  {
   "cell_type": "code",
   "execution_count": null,
   "metadata": {},
   "outputs": [],
   "source": [
    "train = train[train['label'].isin([0,1])]"
   ]
  },
  {
   "cell_type": "code",
   "execution_count": null,
   "metadata": {},
   "outputs": [],
   "source": [
    "test = pd.read_parquet('yelp_review_full/yelp_review_full/test-00000-of-00001.parquet')"
   ]
  },
  {
   "cell_type": "code",
   "execution_count": null,
   "metadata": {},
   "outputs": [],
   "source": [
    "test = test[test['label'].isin([0,1])]"
   ]
  },
  {
   "cell_type": "code",
   "execution_count": null,
   "metadata": {},
   "outputs": [],
   "source": [
    "test = test[:100]"
   ]
  },
  {
   "cell_type": "code",
   "execution_count": null,
   "metadata": {},
   "outputs": [],
   "source": [
    "vectorizer = CountVectorizer()\n",
    "training_data = vectorizer.fit_transform(train['text'])\n",
    "test_data = vectorizer.transform(test['text'])"
   ]
  },
  {
   "cell_type": "markdown",
   "metadata": {},
   "source": [
    "#### Predict"
   ]
  },
  {
   "cell_type": "code",
   "execution_count": null,
   "metadata": {},
   "outputs": [],
   "source": [
    "def predict(X_test, df_train):\n",
    "    prior_1 = float(df_train.loc[(df_train['feature'] == '__PRIOR__') & (df_train['label'] == '1'), 'probability'].iloc[0])\n",
    "    prior_0 = float(df_train.loc[(df_train['feature'] == '__PRIOR__') & (df_train['label'] == '0'), 'probability'].iloc[0])\n",
    "    \n",
    "    df_train_filtered = df_train[df_train['feature'] != '__PRIOR__'].copy()\n",
    "    \n",
    "    label_word_probs = {}\n",
    "    labels = df_train['label'].unique()\n",
    "    for label in labels:\n",
    "        label_word_probs[label] = df_train_filtered[df_train_filtered['label'] == label].set_index('feature')['probability'].to_dict()\n",
    "    \n",
    "    predictions = []\n",
    "    \n",
    "    for test_vector in X_test.toarray():\n",
    "        results = {}\n",
    "        for label in labels:\n",
    "            class_probabilities = 0\n",
    "            word_probs = label_word_probs[label]\n",
    "            for i, word_count in enumerate(test_vector):\n",
    "                if word_count > 0:\n",
    "                    word_prob = word_probs.get(i, 0)  \n",
    "                    if word_prob > 0:\n",
    "                        class_probabilities += word_count * math.log(word_prob)\n",
    "            \n",
    "            if label == '1':\n",
    "                results[label] = math.log(prior_1) + class_probabilities\n",
    "            else:\n",
    "                results[label] = math.log(prior_0) + class_probabilities\n",
    "        \n",
    "        predictions.append(max(results, key=results.get))\n",
    "    \n",
    "    return predictions\n"
   ]
  },
  {
   "cell_type": "code",
   "execution_count": null,
   "metadata": {},
   "outputs": [],
   "source": [
    "ls  = predict(test_data,trained)"
   ]
  }
 ],
 "metadata": {
  "kernelspec": {
   "display_name": ".venv",
   "language": "python",
   "name": "python3"
  },
  "language_info": {
   "codemirror_mode": {
    "name": "ipython",
    "version": 3
   },
   "file_extension": ".py",
   "mimetype": "text/x-python",
   "name": "python",
   "nbconvert_exporter": "python",
   "pygments_lexer": "ipython3",
   "version": "3.12.2"
  }
 },
 "nbformat": 4,
 "nbformat_minor": 2
}
